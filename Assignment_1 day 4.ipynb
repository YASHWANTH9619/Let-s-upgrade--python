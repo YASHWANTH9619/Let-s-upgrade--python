{
  "nbformat": 4,
  "nbformat_minor": 0,
  "metadata": {
    "colab": {
      "name": "Assignment 4.ipynb",
      "provenance": [],
      "authorship_tag": "ABX9TyNff/J5STluQJWKAufL3bzT",
      "include_colab_link": true
    },
    "kernelspec": {
      "name": "python3",
      "display_name": "Python 3"
    }
  },
  "cells": [
    {
      "cell_type": "markdown",
      "metadata": {
        "id": "view-in-github",
        "colab_type": "text"
      },
      "source": [
        "<a href=\"https://colab.research.google.com/github/YASHWANTH9619/Let-s-upgrade--python/blob/master/Assignment_1%20day%204.ipynb\" target=\"_parent\"><img src=\"https://colab.research.google.com/assets/colab-badge.svg\" alt=\"Open In Colab\"/></a>"
      ]
    },
    {
      "cell_type": "code",
      "metadata": {
        "id": "dEPHOmzl8Evk",
        "colab_type": "code",
        "colab": {
          "base_uri": "https://localhost:8080/",
          "height": 54
        },
        "outputId": "c48c5690-cfd8-4e19-e2f0-b8b9923be95d"
      },
      "source": [
        "for i in range(1042000,702648265):\n",
        "    num=i\n",
        "    result=0\n",
        "    n=len(str(i))\n",
        "    while (i!=0):\n",
        "        digit=i%10\n",
        "        result=result+digit**n\n",
        "        i=i//10\n",
        "    if num==result:\n",
        "        break\n",
        "print(\"the first Armstrong number is\",num)"
      ],
      "execution_count": 3,
      "outputs": [
        {
          "output_type": "stream",
          "text": [
            "the first Armstrong number is 1741725\n"
          ],
          "name": "stdout"
        }
      ]
    },
    {
      "cell_type": "code",
      "metadata": {
        "id": "VDtHlAcWACwm",
        "colab_type": "code",
        "colab": {}
      },
      "source": [
        ""
      ],
      "execution_count": null,
      "outputs": []
    }
  ]
}