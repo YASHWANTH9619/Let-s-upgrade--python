{
  "nbformat": 4,
  "nbformat_minor": 0,
  "metadata": {
    "colab": {
      "name": "Assignment 1 day 9.ipynb",
      "provenance": [],
      "authorship_tag": "ABX9TyPZoYXI3oul/Ib0N8sL5u8P",
      "include_colab_link": true
    },
    "kernelspec": {
      "name": "python3",
      "display_name": "Python 3"
    }
  },
  "cells": [
    {
      "cell_type": "markdown",
      "metadata": {
        "id": "view-in-github",
        "colab_type": "text"
      },
      "source": [
        "<a href=\"https://colab.research.google.com/github/YASHWANTH9619/Let-s-upgrade--python/blob/master/Assignment_1_day_9.ipynb\" target=\"_parent\"><img src=\"https://colab.research.google.com/assets/colab-badge.svg\" alt=\"Open In Colab\"/></a>"
      ]
    },
    {
      "cell_type": "code",
      "metadata": {
        "id": "WmoyXdjdoI-p",
        "colab_type": "code",
        "colab": {}
      },
      "source": [
        " def is_prime(number):\n",
        "    \"\"\"Return True if *number* is prime.\"\"\"\n",
        "    for element in range(number):\n",
        "        if number % element == 0:\n",
        "            return False\n",
        " \n",
        "    return True\n",
        " \n",
        "def print_next_prime(number):\n",
        "    \"\"\"Print the closest prime number larger than *number*.\"\"\"\n",
        "    index = number\n",
        "    while True:\n",
        "        index += 1\n",
        "        if is_prime(index):\n",
        "            print(index)"
      ],
      "execution_count": 4,
      "outputs": []
    },
    {
      "cell_type": "code",
      "metadata": {
        "id": "IanvvJM7oY7u",
        "colab_type": "code",
        "colab": {}
      },
      "source": [
        "is prime(100)"
      ],
      "execution_count": null,
      "outputs": []
    }
  ]
}