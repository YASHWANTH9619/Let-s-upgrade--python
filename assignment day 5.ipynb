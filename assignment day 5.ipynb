{
  "nbformat": 4,
  "nbformat_minor": 0,
  "metadata": {
    "colab": {
      "name": "Untitled",
      "provenance": [],
      "authorship_tag": "ABX9TyMI1omTmLUpg02LI00EVNSa",
      "include_colab_link": true
    },
    "kernelspec": {
      "name": "python3",
      "display_name": "Python 3"
    }
  },
  "cells": [
    {
      "cell_type": "markdown",
      "metadata": {
        "id": "view-in-github",
        "colab_type": "text"
      },
      "source": [
        "<a href=\"https://colab.research.google.com/github/YASHWANTH9619/Let-s-upgrade--python/blob/master/assignment%20day%205.ipynb\" target=\"_parent\"><img src=\"https://colab.research.google.com/assets/colab-badge.svg\" alt=\"Open In Colab\"/></a>"
      ]
    },
    {
      "cell_type": "code",
      "metadata": {
        "id": "sFG2lRYsExJF",
        "colab_type": "code",
        "colab": {}
      },
      "source": [
        "##ASSIGNMENT 1 --DAY 5"
      ],
      "execution_count": null,
      "outputs": []
    },
    {
      "cell_type": "code",
      "metadata": {
        "id": "AnP7tUAwDlgX",
        "colab_type": "code",
        "colab": {
          "base_uri": "https://localhost:8080/",
          "height": 34
        },
        "outputId": "f9fec98d-0e1b-4f70-db11-10515f4f7b6a"
      },
      "source": [
        " \n",
        " \n",
        "num = range(2, 2500) \n",
        "for i in range(2, 8): \n",
        "     num = filter(lambda x: x == i or x % i, num)\n",
        " \n",
        "print(num)"
      ],
      "execution_count": null,
      "outputs": [
        {
          "output_type": "stream",
          "text": [
            "<filter object at 0x7f68c6b0aa90>\n"
          ],
          "name": "stdout"
        }
      ]
    },
    {
      "cell_type": "code",
      "metadata": {
        "id": "__a25DZUEyaq",
        "colab_type": "code",
        "colab": {}
      },
      "source": [
        "##ASSIGNMENT 2--DAY 5"
      ],
      "execution_count": null,
      "outputs": []
    },
    {
      "cell_type": "code",
      "metadata": {
        "id": "yTraF_mvEwRF",
        "colab_type": "code",
        "colab": {
          "base_uri": "https://localhost:8080/",
          "height": 71
        },
        "outputId": "a04c4533-bfaa-45aa-c140-ecf3189dca2c"
      },
      "source": [
        "string = \" i am sai ,i live in mumbai.\"\n",
        " \n",
        "new_string = string.capitalize()\n",
        " \n",
        "print('Old String:', string)\n",
        "print('New String:', new_string)"
      ],
      "execution_count": 14,
      "outputs": [
        {
          "output_type": "stream",
          "text": [
            "Old String:  i am sai ,i live in mumbai.\n",
            "New String:  i am sai ,i live in mumbai.\n"
          ],
          "name": "stdout"
        }
      ]
    },
    {
      "cell_type": "code",
      "metadata": {
        "id": "aLBnzxlga_uz",
        "colab_type": "code",
        "colab": {}
      },
      "source": [
        "##ASSIGNMEMT --3 DAY --5"
      ],
      "execution_count": 15,
      "outputs": []
    },
    {
      "cell_type": "code",
      "metadata": {
        "id": "tdrDtrD3Evzg",
        "colab_type": "code",
        "colab": {}
      },
      "source": [
        ""
      ],
      "execution_count": null,
      "outputs": []
    },
    {
      "cell_type": "code",
      "metadata": {
        "id": "ONFN1mSHEQoo",
        "colab_type": "code",
        "colab": {}
      },
      "source": [
        ""
      ],
      "execution_count": null,
      "outputs": []
    }
  ]
}