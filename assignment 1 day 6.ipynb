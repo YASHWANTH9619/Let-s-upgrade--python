{
  "nbformat": 4,
  "nbformat_minor": 0,
  "metadata": {
    "colab": {
      "name": "Untitled",
      "provenance": [],
      "authorship_tag": "ABX9TyNadY1qHG/4QK4hqFVQnu5O",
      "include_colab_link": true
    },
    "kernelspec": {
      "name": "python3",
      "display_name": "Python 3"
    }
  },
  "cells": [
    {
      "cell_type": "markdown",
      "metadata": {
        "id": "view-in-github",
        "colab_type": "text"
      },
      "source": [
        "<a href=\"https://colab.research.google.com/github/YASHWANTH9619/Let-s-upgrade--python/blob/master/assignment%201%20day%206.ipynb\" target=\"_parent\"><img src=\"https://colab.research.google.com/assets/colab-badge.svg\" alt=\"Open In Colab\"/></a>"
      ]
    },
    {
      "cell_type": "code",
      "metadata": {
        "id": "X3MmVsfBfIS0",
        "colab_type": "code",
        "colab": {}
      },
      "source": [
        "##assignment 1 day 6"
      ],
      "execution_count": null,
      "outputs": []
    },
    {
      "cell_type": "code",
      "metadata": {
        "id": "Ww5cvEFwfRdW",
        "colab_type": "code",
        "colab": {
          "base_uri": "https://localhost:8080/",
          "height": 147
        },
        "outputId": "1ed6ec00-8124-47cf-e6be-848e66e5cc67"
      },
      "source": [
        "class Account:\n",
        "    def_init_(self):\n",
        "        self.balance=0print('Your Account is Created.')\n",
        "    def deposit(self):\n",
        "        amount=int(input('Enter the amount to deposit:'))\n",
        "        self.balance+=amount\n",
        "        print('Your New Balance =%d' %self.balance)\n",
        "    def withdraw(self):\n",
        "        amount=int(input('Enter the amount to withdraw:'))\n",
        "    if(amount>self.balance):\n",
        "        print('Insufficient Balance!')else:\n",
        "        self.balance-=amountprint('Your Remaining Balance =%d' %self.balance)\n",
        "    def enquiry(self):\n",
        "        print('Your Balance =%d' %self.balance)\n",
        "        account= Account()\n",
        "        account.deposit()\n",
        "        account.withdraw()\n",
        "        account.enquiry()"
      ],
      "execution_count": null,
      "outputs": [
        {
          "output_type": "error",
          "ename": "SyntaxError",
          "evalue": "ignored",
          "traceback": [
            "\u001b[0;36m  File \u001b[0;32m\"<ipython-input-6-c8f36a619e25>\"\u001b[0;36m, line \u001b[0;32m2\u001b[0m\n\u001b[0;31m    def_init_(self):\u001b[0m\n\u001b[0m                    ^\u001b[0m\n\u001b[0;31mSyntaxError\u001b[0m\u001b[0;31m:\u001b[0m invalid syntax\n"
          ]
        }
      ]
    },
    {
      "cell_type": "code",
      "metadata": {
        "id": "GAhpKHPRgdeG",
        "colab_type": "code",
        "colab": {}
      },
      "source": [
        "##ASSIGNMENT 2 DAY 6"
      ],
      "execution_count": null,
      "outputs": []
    },
    {
      "cell_type": "code",
      "metadata": {
        "id": "Icy9O8VIgiPv",
        "colab_type": "code",
        "colab": {}
      },
      "source": [
        " import math\n",
        " \n",
        "radius = float(input('Please Enter the Radius of a Cone: '))\n",
        "height = float(input('Please Enter the Height of a Cone: '))\n",
        "# Calculate the Surface Area\n",
        "SA = math.pi * radius * (radius + l)\n",
        " \n",
        "# Calculate the Volume\n",
        "Volume = (1.0/3) * math.pi * radius * radius * height\n",
        " \n",
        "print(\" The Surface Area of a Cone = %.2f \" %SA)\n",
        "print(\" The Volume of a Cone = %.2f\" %Volume);"
      ],
      "execution_count": null,
      "outputs": []
    }
  ]
}